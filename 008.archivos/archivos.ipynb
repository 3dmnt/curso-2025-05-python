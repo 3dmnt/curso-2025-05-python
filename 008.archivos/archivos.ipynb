{
 "cells": [
  {
   "cell_type": "markdown",
   "metadata": {
    "vscode": {
     "languageId": "plaintext"
    }
   },
   "source": [
    "# abrir archivos\n",
    "\n",
    "* 'r' lectura (read) (por defecto)\n",
    "* 'w' escritura (write) sobrescribe el archivo\n",
    "* 'a' append (añade al final)\n",
    "* 'r+' lectura y escritura\n",
    "\n",
    "* FileNotFoundError                         "
   ]
  },
  {
   "cell_type": "code",
   "execution_count": null,
   "metadata": {},
   "outputs": [],
   "source": [
    "archivo = open('nombres.txt')\n",
    "archivo.read()"
   ]
  },
  {
   "cell_type": "code",
   "execution_count": null,
   "metadata": {},
   "outputs": [],
   "source": [
    "archivo = open('nombres.txt')\n",
    "for linea in archivo:\n",
    "    print(linea)"
   ]
  },
  {
   "cell_type": "markdown",
   "metadata": {},
   "source": [
    "## with (context manager o gestor de contexto)\n",
    "\n",
    "with es una keyword de python y garantiza que los recursos se abran y cierren correctamente sin importar si ocurre un error, y se haga de forma segura. Cierra automáticamente esos recursos aunque haya error.\n",
    "\n",
    "El with se aplica también en otros recursos:\n",
    "\n",
    "* with open\n",
    "* with sqlite.connect\n",
    "* with request.get\n",
    "\n",
    "Si se empiezan abrir muchos archivos y no se cierran el sistema operativo podría lanzar un fallo \"too many open files\", o bloquear archivos para otros procesos, o eventualmente cerrar archivos. \n",
    "\n",
    "Básicamente el Sistema Operativo suele tener un límite de archivos abiertos simultáneamente.\n",
    "En Linux el límite 1024 archivos por proceso.\n",
    "\n",
    "memory leaks - se acumulan recursos sin cerrar y generan problemas de memoria."
   ]
  },
  {
   "cell_type": "code",
   "execution_count": null,
   "metadata": {},
   "outputs": [],
   "source": [
    "with open('nombres.txt', 'r') as archivo:\n",
    "    print(archivo.read())\n",
    "    contenido = archivo.read()"
   ]
  },
  {
   "cell_type": "code",
   "execution_count": null,
   "metadata": {},
   "outputs": [],
   "source": [
    "with open('nombres.txt', 'r') as archivo:\n",
    "    print(archivo.readlines())"
   ]
  },
  {
   "cell_type": "markdown",
   "metadata": {},
   "source": [
    "## Escribir en un archivo\n",
    "\n",
    "Cuándo interesa:\n",
    "\n",
    "* Exportar datos (por ejemplo Notion)\n",
    "\n",
    "Donde se suelen almacenar los archivos:\n",
    "\n",
    "* filesystem: el propio sistema de directorios y ficheros de nuestro ordenador o el servidor donde corre la aplicación. El problema es que esto nos puede agotar el disco.\n",
    "* bucket cloud storage: AWS o GCP o Azure y guardamos la URL de esa imagen o archivo subido a ese bucket, guardamos la url en nuestra base datos."
   ]
  },
  {
   "cell_type": "code",
   "execution_count": 9,
   "metadata": {},
   "outputs": [],
   "source": [
    "with open('resultados.txt', 'w') as archivo:\n",
    "    archivo.write(\"Ramón 5/10\")\n",
    "    archivo.write(\"María 7/10\")"
   ]
  },
  {
   "cell_type": "code",
   "execution_count": 10,
   "metadata": {},
   "outputs": [],
   "source": [
    "# utf-8 asegura que se lea bien caracteres especiales como acentos\n",
    "with open('resultados.txt', 'w', encoding='utf-8') as archivo:\n",
    "    archivo.write(\"Ramón 5/10\")\n",
    "    archivo.write(\"María 7/10\")"
   ]
  },
  {
   "cell_type": "code",
   "execution_count": 13,
   "metadata": {},
   "outputs": [],
   "source": [
    "resultados = ['estudiante,calificacion\\n', 'Ramón,5\\n', 'Pepe,7\\n', 'Maria,9\\n']\n",
    "with open('resultados.csv', 'w', encoding='utf-8') as archivo:\n",
    "    archivo.writelines(resultados)"
   ]
  },
  {
   "cell_type": "code",
   "execution_count": null,
   "metadata": {},
   "outputs": [],
   "source": [
    "import os\n",
    "\n",
    "os.listdir()"
   ]
  },
  {
   "cell_type": "code",
   "execution_count": 5,
   "metadata": {},
   "outputs": [
    {
     "name": "stdout",
     "output_type": "stream",
     "text": [
      "Archivo no existe\n",
      "hola\n"
     ]
    }
   ],
   "source": [
    "try:\n",
    "    with open('resultados.csv', 'r', encoding='utf-8') as archivo:\n",
    "        print(archivo.read())\n",
    "except FileNotFoundError:\n",
    "    print('Archivo no existe')\n",
    "except PermissionError:\n",
    "    print('Error de permisos')\n",
    "\n",
    "print('hola')"
   ]
  }
 ],
 "metadata": {
  "kernelspec": {
   "display_name": ".venv (3.12.10)",
   "language": "python",
   "name": "python3"
  },
  "language_info": {
   "codemirror_mode": {
    "name": "ipython",
    "version": 3
   },
   "file_extension": ".py",
   "mimetype": "text/x-python",
   "name": "python",
   "nbconvert_exporter": "python",
   "pygments_lexer": "ipython3",
   "version": "3.12.10"
  }
 },
 "nbformat": 4,
 "nbformat_minor": 2
}
