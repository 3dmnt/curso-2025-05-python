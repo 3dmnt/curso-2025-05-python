{
 "cells": [
  {
   "cell_type": "code",
   "execution_count": 2,
   "metadata": {},
   "outputs": [],
   "source": [
    "# clase sin constructor\n",
    "\n",
    "class User: \n",
    "    email = 'user@gmail.com'\n",
    "    password = 'admin'\n",
    "\n",
    "# todos los objetos tendrán el mismo email y password\n",
    "user1 = User()\n",
    "user2 = User()\n",
    "# aunque los podemos modificar\n",
    "user1.email = 'user1@gmail.com'\n",
    "user2.email = 'user2@gmail.com'"
   ]
  },
  {
   "cell_type": "code",
   "execution_count": null,
   "metadata": {},
   "outputs": [
    {
     "name": "stdout",
     "output_type": "stream",
     "text": [
      "fin\n"
     ]
    }
   ],
   "source": [
    "class User:\n",
    "    def __init__(self, email, password):\n",
    "        self.email = email # equivalente en js: this.email = email;\n",
    "        self.password = password\n",
    "\n",
    "user1 = User('user1@gmail.com', 'abcd')\n",
    "user2 = User('user2@gmail.com', 'admin')\n",
    "# user3 = User() # da error, ya que es obligatorio pasar los datos\n",
    "print('fin')"
   ]
  },
  {
   "cell_type": "code",
   "execution_count": 15,
   "metadata": {},
   "outputs": [
    {
     "name": "stdout",
     "output_type": "stream",
     "text": [
      "Hola soy pepe@gmail.com\n"
     ]
    }
   ],
   "source": [
    "class User:\n",
    "    def __init__(self, email, password):\n",
    "        self.email = email # equivalente en js: this.email = email;\n",
    "        self.password = password\n",
    "    \n",
    "    def saludar(self):\n",
    "        print(f'Hola soy {self.email}')\n",
    "\n",
    "user1 = User('pepe@gmail.com', 'abcd')\n",
    "user1.saludar()"
   ]
  },
  {
   "cell_type": "code",
   "execution_count": 27,
   "metadata": {},
   "outputs": [
    {
     "name": "stdout",
     "output_type": "stream",
     "text": [
      "0\n",
      "5.25\n",
      "6.3\n"
     ]
    }
   ],
   "source": [
    "# class Product (ecommerce) con __init__ con 4-5 atributos, title, description, price...\n",
    "class Product:\n",
    "    def __init__(self, name, price, description, size, color):\n",
    "        self.name = name\n",
    "        self.price = price\n",
    "        self.description = description\n",
    "        self.size = size    \n",
    "        self.color = color\n",
    "\n",
    "    def __str__(self): # equivalente a toString de Java\n",
    "        return f'Producto: name {self.name}, price: {self.price}'\n",
    "    \n",
    "    # crear método que calcule y devuelva el IVA 21 % del producto en base a su price actual\n",
    "    def get_price_with_iva(self):\n",
    "        if not self.price:\n",
    "            return 0\n",
    "            \n",
    "        precio_con_iva = self.price + (self.price * 0.21)\n",
    "        print(f'El precio con IVA es {precio_con_iva}')\n",
    "        return precio_con_iva\n",
    "    \n",
    "    def get_iva(self):\n",
    "        return self.price * 0.21 if self.price else 0\n",
    "\n",
    "\n",
    "camiseta1 = Product(\"Camiseta1\", None, \"Camiseta de algodón\", \"M\", \"Rojo\")\n",
    "camiseta2 = Product(\"Camiseta2\", 25.00, \"Camiseta de poliéster\", \"L\", \"Azul\")\n",
    "camiseta3 = Product(\"Camiseta3\", 30.00, \"Camiseta de lana\", \"S\", \"Verde\")\n",
    "print(camiseta1.get_iva())\n",
    "print(camiseta2.get_iva())\n",
    "print(camiseta3.get_iva())"
   ]
  },
  {
   "cell_type": "code",
   "execution_count": 34,
   "metadata": {},
   "outputs": [
    {
     "data": {
      "text/plain": [
       "'mal'"
      ]
     },
     "execution_count": 34,
     "metadata": {},
     "output_type": "execute_result"
    }
   ],
   "source": [
    "# class Product (ecommerce) con __init__ con 4-5 atributos, title, description, price...\n",
    "class Product:\n",
    "    def __init__(self, name: str, price: float, description: str, size: int, color: str):\n",
    "        self.name = name\n",
    "        self.price = price\n",
    "        self.description = description\n",
    "        self.size = size    \n",
    "        self.color = color\n",
    "\n",
    "\n",
    "camiseta1 = Product(\"prueba\", \"mal\", \"Camiseta de poliéster\", \"L\", \"Azul\")\n",
    "camiseta1.price\n",
    "# Hemos usado mypy para detectar esta incompatibilidad de tipos\n",
    "# mypy product.py para ejecutar y detectar"
   ]
  },
  {
   "cell_type": "code",
   "execution_count": 37,
   "metadata": {},
   "outputs": [
    {
     "name": "stdout",
     "output_type": "stream",
     "text": [
      "electronics\n"
     ]
    }
   ],
   "source": [
    "# Literal para categorías o valores con un número limitado de opciones:\n",
    "from typing import Literal\n",
    "\n",
    "class Product:\n",
    "    def __init__(self, name: str, price: float, category: Literal['clothing', 'electronics', 'books']):\n",
    "        self.name = name\n",
    "        self.price = price\n",
    "        self.category = category\n",
    "\n",
    "product1 = Product(\"mesa\", 499.99, 'electronics')\n",
    "print(product1.category)"
   ]
  },
  {
   "cell_type": "code",
   "execution_count": 41,
   "metadata": {},
   "outputs": [
    {
     "name": "stdout",
     "output_type": "stream",
     "text": [
      "electronics\n"
     ]
    }
   ],
   "source": [
    "# con enum: es una agrupación de constantes\n",
    "# más recomendable si planeamos utilizar esta categoría en muchos sitios de nuestra aplicación\n",
    "\n",
    "from enum import Enum\n",
    "\n",
    "class ProductCategory(Enum):\n",
    "    CLOTHING = 'clothing'\n",
    "    ELECTRONICS = 'electronics'\n",
    "    BOOKS = 'books'\n",
    "    # ...\n",
    "\n",
    "    def __str__(self):\n",
    "        return self.value\n",
    "    \n",
    "class Product:\n",
    "    def __init__(self, name: str, price: float, category: ProductCategory):\n",
    "        self.name = name\n",
    "        self.price = price\n",
    "        self.category = category\n",
    "\n",
    "product1 = Product('micrófono', 49.99, ProductCategory.ELECTRONICS)\n",
    "print(product1.category)"
   ]
  }
 ],
 "metadata": {
  "kernelspec": {
   "display_name": ".venv (3.12.10)",
   "language": "python",
   "name": "python3"
  },
  "language_info": {
   "codemirror_mode": {
    "name": "ipython",
    "version": 3
   },
   "file_extension": ".py",
   "mimetype": "text/x-python",
   "name": "python",
   "nbconvert_exporter": "python",
   "pygments_lexer": "ipython3",
   "version": "3.12.10"
  }
 },
 "nbformat": 4,
 "nbformat_minor": 2
}
