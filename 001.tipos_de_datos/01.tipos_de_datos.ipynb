{
 "cells": [
  {
   "cell_type": "markdown",
   "metadata": {},
   "source": [
    "# Tipos de datos en Python"
   ]
  },
  {
   "cell_type": "markdown",
   "metadata": {},
   "source": [
    "## Números\n",
    "\n",
    "Python:\n",
    "\n",
    "* int\n",
    "* float\n",
    "\n",
    "Java:\n",
    "\n",
    "* byte\n",
    "* short\n",
    "* int\n",
    "* long\n",
    "\n",
    "Python es **lenguaje interpretado**, de tipado dinámico, no es necesario especificar el tipo de dato al crear variables.\n",
    "\n",
    "El nulo:\n",
    "\n",
    "* Java: null\n",
    "* Python: None"
   ]
  },
  {
   "cell_type": "code",
   "execution_count": 10,
   "metadata": {},
   "outputs": [
    {
     "data": {
      "text/plain": [
       "18"
      ]
     },
     "execution_count": 10,
     "metadata": {},
     "output_type": "execute_result"
    }
   ],
   "source": [
    "edad = 18\n",
    "edad"
   ]
  },
  {
   "cell_type": "code",
   "execution_count": 11,
   "metadata": {},
   "outputs": [
    {
     "data": {
      "text/plain": [
       "1.7"
      ]
     },
     "execution_count": 11,
     "metadata": {},
     "output_type": "execute_result"
    }
   ],
   "source": [
    "altura = 1.70\n",
    "altura"
   ]
  },
  {
   "cell_type": "code",
   "execution_count": 12,
   "metadata": {},
   "outputs": [
    {
     "data": {
      "text/plain": [
       "int"
      ]
     },
     "execution_count": 12,
     "metadata": {},
     "output_type": "execute_result"
    }
   ],
   "source": [
    "type(edad)"
   ]
  },
  {
   "cell_type": "code",
   "execution_count": 13,
   "metadata": {},
   "outputs": [
    {
     "data": {
      "text/plain": [
       "float"
      ]
     },
     "execution_count": 13,
     "metadata": {},
     "output_type": "execute_result"
    }
   ],
   "source": [
    "type(altura)"
   ]
  },
  {
   "cell_type": "code",
   "execution_count": 14,
   "metadata": {},
   "outputs": [
    {
     "data": {
      "text/plain": [
       "(3+6j)"
      ]
     },
     "execution_count": 14,
     "metadata": {},
     "output_type": "execute_result"
    }
   ],
   "source": [
    "complex = 3 + 6j\n",
    "complex"
   ]
  },
  {
   "cell_type": "code",
   "execution_count": 15,
   "metadata": {},
   "outputs": [
    {
     "data": {
      "text/plain": [
       "complex"
      ]
     },
     "execution_count": 15,
     "metadata": {},
     "output_type": "execute_result"
    }
   ],
   "source": [
    "type(complex)"
   ]
  },
  {
   "cell_type": "markdown",
   "metadata": {},
   "source": [
    "## Boolean\n",
    "\n",
    "Difiere de otros lenguajes:\n",
    "\n",
    "Java:\n",
    "\n",
    "* true\n",
    "* false\n",
    "\n",
    "Python:\n",
    "\n",
    "* True\n",
    "* False\n",
    "\n",
    "case sensitive"
   ]
  },
  {
   "cell_type": "code",
   "execution_count": 16,
   "metadata": {},
   "outputs": [
    {
     "data": {
      "text/plain": [
       "True"
      ]
     },
     "execution_count": 16,
     "metadata": {},
     "output_type": "execute_result"
    }
   ],
   "source": [
    "estudiante = True\n",
    "estudiante"
   ]
  },
  {
   "cell_type": "code",
   "execution_count": 17,
   "metadata": {},
   "outputs": [
    {
     "data": {
      "text/plain": [
       "False"
      ]
     },
     "execution_count": 17,
     "metadata": {},
     "output_type": "execute_result"
    }
   ],
   "source": [
    "prueba = False\n",
    "prueba"
   ]
  },
  {
   "cell_type": "code",
   "execution_count": 19,
   "metadata": {},
   "outputs": [
    {
     "data": {
      "text/plain": [
       "bool"
      ]
     },
     "execution_count": 19,
     "metadata": {},
     "output_type": "execute_result"
    }
   ],
   "source": [
    "type(estudiante)"
   ]
  },
  {
   "cell_type": "markdown",
   "metadata": {},
   "source": [
    "## String texto (str)\n",
    "\n",
    "* nombre, apellido, descripcion"
   ]
  },
  {
   "cell_type": "code",
   "execution_count": 4,
   "metadata": {},
   "outputs": [
    {
     "name": "stdout",
     "output_type": "stream",
     "text": [
      "Juan\n",
      "Pérez\n",
      "Hola,\n",
      "Este es un mensaje\n",
      "en varias líneas.\n",
      "¡Buenos días!\n",
      "¿Cómo estás?\n",
      "25\n",
      "Me llamo Juan Pérez y tengo 25 años.\n"
     ]
    }
   ],
   "source": [
    "# Crear variables de tipo texto (str) de varias formas diferentes\n",
    "\n",
    "# Usando comillas simples\n",
    "nombre = 'Juan'\n",
    "\n",
    "# Usando comillas dobles\n",
    "apellido = \"Pérez\"\n",
    "\n",
    "# Usando triple comillas simples para texto multilínea\n",
    "mensaje = '''Hola,\n",
    "Este es un mensaje\n",
    "en varias líneas.'''\n",
    "\n",
    "# Usando triple comillas dobles para texto multilínea\n",
    "saludo = \"\"\"¡Buenos días!\n",
    "¿Cómo estás?\"\"\"\n",
    "\n",
    "# Usando la función str() para convertir otro tipo de dato a texto\n",
    "edad = 25\n",
    "edad_texto = str(edad)\n",
    "\n",
    "# Usando f-strings (formateo moderno de cadenas)\n",
    "\n",
    "presentacion = f\"Me llamo {nombre} {apellido} y tengo {edad} años.\"\n",
    "\n",
    "# Mostramos los resultados\n",
    "print(nombre)\n",
    "print(apellido)\n",
    "print(mensaje)\n",
    "print(saludo)\n",
    "print(edad_texto)\n",
    "print(presentacion)"
   ]
  },
  {
   "cell_type": "code",
   "execution_count": 3,
   "metadata": {},
   "outputs": [
    {
     "data": {
      "text/plain": [
       "'Hola Alan'"
      ]
     },
     "execution_count": 3,
     "metadata": {},
     "output_type": "execute_result"
    }
   ],
   "source": [
    "nombre = \"Alan\"\n",
    "saludo = f\"Hola {nombre}\"\n",
    "saludo"
   ]
  },
  {
   "cell_type": "markdown",
   "metadata": {},
   "source": [
    "## Comentarios"
   ]
  },
  {
   "cell_type": "code",
   "execution_count": 25,
   "metadata": {},
   "outputs": [],
   "source": [
    "# esto es un comentario inline"
   ]
  },
  {
   "cell_type": "code",
   "execution_count": 24,
   "metadata": {},
   "outputs": [],
   "source": [
    "'''\n",
    "esto es un comentario\n",
    "de varias lineas\n",
    "'''\n",
    "edad = 19"
   ]
  },
  {
   "cell_type": "markdown",
   "metadata": {},
   "source": [
    "Esto no es un comentario, es texto markdown que va fuera del código."
   ]
  }
 ],
 "metadata": {
  "kernelspec": {
   "display_name": ".venv (3.12.10)",
   "language": "python",
   "name": "python3"
  },
  "language_info": {
   "codemirror_mode": {
    "name": "ipython",
    "version": 3
   },
   "file_extension": ".py",
   "mimetype": "text/x-python",
   "name": "python",
   "nbconvert_exporter": "python",
   "pygments_lexer": "ipython3",
   "version": "3.12.10"
  }
 },
 "nbformat": 4,
 "nbformat_minor": 2
}
