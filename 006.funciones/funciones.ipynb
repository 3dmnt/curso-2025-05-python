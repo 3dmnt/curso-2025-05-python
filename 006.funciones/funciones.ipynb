{
 "cells": [
  {
   "cell_type": "markdown",
   "metadata": {},
   "source": [
    "Java:\n",
    "\n",
    "```java\n",
    "public String saludo(){\n",
    "    System.out.print(\"hola\");\n",
    "}\n",
    "```\n"
   ]
  },
  {
   "cell_type": "code",
   "execution_count": 4,
   "metadata": {},
   "outputs": [
    {
     "name": "stdout",
     "output_type": "stream",
     "text": [
      "hola\n"
     ]
    }
   ],
   "source": [
    "# sin parámetros\n",
    "def saludo():\n",
    "    print(\"hola\")\n",
    "\n",
    "saludo() # invocación"
   ]
  },
  {
   "cell_type": "code",
   "execution_count": 7,
   "metadata": {},
   "outputs": [
    {
     "name": "stdout",
     "output_type": "stream",
     "text": [
      "Hola Alan\n",
      "Hola Carolina\n"
     ]
    }
   ],
   "source": [
    "# con un parámetro\n",
    "def saludar(nombre):\n",
    "    print(f\"Hola {nombre}\")\n",
    "\n",
    "saludar(\"Alan\")\n",
    "saludar(\"Carolina\")"
   ]
  },
  {
   "cell_type": "code",
   "execution_count": 14,
   "metadata": {},
   "outputs": [
    {
     "name": "stdout",
     "output_type": "stream",
     "text": [
      "Hola Alan de Gijón\n"
     ]
    }
   ],
   "source": [
    "# con dos parámetros\n",
    "def saludar(nombre, ciudad):\n",
    "    print(f\"Hola {nombre} de {ciudad}\")\n",
    "\n",
    "saludar(\"Alan\", \"Gijón\")"
   ]
  },
  {
   "cell_type": "code",
   "execution_count": 17,
   "metadata": {},
   "outputs": [
    {
     "name": "stdout",
     "output_type": "stream",
     "text": [
      "Hola Alan de Madrid\n"
     ]
    }
   ],
   "source": [
    "# Parámetros con valores por defecto\n",
    "def saludar(nombre, ciudad=\"Madrid\"):\n",
    "    print(f\"Hola {nombre} de {ciudad}\")\n",
    "\n",
    "saludar(\"Alan\")"
   ]
  },
  {
   "cell_type": "code",
   "execution_count": 18,
   "metadata": {},
   "outputs": [
    {
     "name": "stdout",
     "output_type": "stream",
     "text": [
      "Hola Alan de Gijón\n"
     ]
    }
   ],
   "source": [
    "saludar(\"Alan\", \"Gijón\")  "
   ]
  },
  {
   "cell_type": "code",
   "execution_count": 30,
   "metadata": {},
   "outputs": [
    {
     "name": "stdout",
     "output_type": "stream",
     "text": [
      "Email: alan@gmail.com,           First Name: pepe,           Last Name: prueba,           Age: 20\n",
      "Email: alan@gmail.com,           First Name: pepe,           Last Name: prueba,           Age: 20\n",
      "Email: alan@gmail.com,           First Name: pepe,           Last Name: prueba,           Age: 20\n"
     ]
    }
   ],
   "source": [
    "# lo que está a la izquierda del asterísco no hace falta nombrarlo al invocar la función\n",
    "# lo que está a la derecha sí hace falta nombrarlo al invocar la función\n",
    "# este mecanismo es muy habitual en librerías de python como seaborn, scikit learn para permitir al desarrollador \n",
    "# pasar los parámetros en el orden que quiera\n",
    "def crear_usuario(email, *, first_name, last_name, age):\n",
    "    print(f\"Email: {email}, \\\n",
    "          First Name: {first_name}, \\\n",
    "          Last Name: {last_name}, \\\n",
    "          Age: {age}\"\n",
    "    )\n",
    "\n",
    "crear_usuario('alan@gmail.com', first_name='pepe', last_name='prueba', age=20)\n",
    "crear_usuario('alan@gmail.com', age=20, first_name='pepe', last_name='prueba')\n",
    "crear_usuario('alan@gmail.com',  first_name='pepe', age=20, last_name='prueba')"
   ]
  },
  {
   "cell_type": "code",
   "execution_count": 31,
   "metadata": {},
   "outputs": [
    {
     "name": "stdout",
     "output_type": "stream",
     "text": [
      "usuario creado\n"
     ]
    }
   ],
   "source": [
    "# stringdocs (opcional)\n",
    "# útil para crear funciones que se usarán en otros programas o crear módulos de python reutilizables por otros developers\n",
    "def registrar_usuario(email, password, first_name, last_name):\n",
    "    \"\"\"Crea y guarda un usuario en base de datos.\n",
    "    \n",
    "    Valida que el email sea correcto, que la contraseña esté cifrada y después crea un objeto usuario...\n",
    "\n",
    "    Args: \n",
    "        email (str): correo electrónico con @ y . Debe ser de gmail\n",
    "        password(str): contraseña de entre 8 y 25 caracteres sin cifrar o cifrada en bcrypt con fuerza 10.\n",
    "        first_name(str): primer y segundo nombre\n",
    "        last_name(str): apellidos, máximo 2 \n",
    "\n",
    "    Returns:\n",
    "        bool: si el usuario fue registrado correctamente o no\n",
    "\n",
    "    Raises: \n",
    "        ValueError: si el email es incorrecto\n",
    "        TypeError: si el email no es str\n",
    "\n",
    "    Example:\n",
    "        >>> registrar_usuario(\"alan@gmail.com\", \"admin\", \"alan\", \"sastre\")\n",
    "        True\n",
    "        >>> registrar_usuario(5, \"admin\", \"alan\", \"sastre\")\n",
    "        ValueError: email debe ser texto\n",
    "    \"\"\"\n",
    "    print(\"usuario creado\")\n",
    "\n",
    "\n",
    "registrar_usuario(\"dfdf\", \"dfdf\", \"dfdf\", \"dfdf\")"
   ]
  },
  {
   "cell_type": "code",
   "execution_count": 39,
   "metadata": {},
   "outputs": [
    {
     "name": "stdout",
     "output_type": "stream",
     "text": [
      "0\n",
      "5\n",
      "10\n",
      "15\n",
      "20\n",
      "30\n"
     ]
    }
   ],
   "source": [
    "def suma(*numeros):\n",
    "    total = 0\n",
    "    for numero in numeros:\n",
    "        total += numero\n",
    "    return total\n",
    "\n",
    "print(suma())\n",
    "print(suma(5))\n",
    "print(suma(5, 5))\n",
    "print(suma(5, 5, 5))\n",
    "print(suma(5, 5, 5, 5))\n",
    "print(suma(5, 5, 5, 5, 10))"
   ]
  },
  {
   "cell_type": "code",
   "execution_count": 46,
   "metadata": {},
   "outputs": [
    {
     "name": "stdout",
     "output_type": "stream",
     "text": [
      "key email, value alan@gmail.com\n",
      "key city, value Madrid\n",
      "key country, value Spain\n"
     ]
    }
   ],
   "source": [
    "def crear_perfil(nombre, **info_adicional):\n",
    "    # print(info_adicional)\n",
    "    # print(type(info_adicional))\n",
    "\n",
    "    for key, value in info_adicional.items():\n",
    "        print(f'key {key}, value {value}')\n",
    "\n",
    "crear_perfil(\"Alan\", email=\"alan@gmail.com\", city=\"Madrid\", country=\"Spain\")"
   ]
  },
  {
   "cell_type": "code",
   "execution_count": 44,
   "metadata": {},
   "outputs": [
    {
     "name": "stdout",
     "output_type": "stream",
     "text": [
      "key first_name, value Alan\n",
      "key email, value alan@gmail.com\n",
      "key city, value Madrid\n",
      "key country, value Spain\n"
     ]
    }
   ],
   "source": [
    "def crear_perfil(**info_adicional):\n",
    "    # print(info_adicional)\n",
    "    # print(type(info_adicional))\n",
    "\n",
    "    for key, value in info_adicional.items():\n",
    "        print(f'key {key}, value {value}')\n",
    "\n",
    "crear_perfil(first_name=\"Alan\", email=\"alan@gmail.com\", city=\"Madrid\", country=\"Spain\")"
   ]
  }
 ],
 "metadata": {
  "kernelspec": {
   "display_name": ".venv (3.12.10)",
   "language": "python",
   "name": "python3"
  },
  "language_info": {
   "codemirror_mode": {
    "name": "ipython",
    "version": 3
   },
   "file_extension": ".py",
   "mimetype": "text/x-python",
   "name": "python",
   "nbconvert_exporter": "python",
   "pygments_lexer": "ipython3",
   "version": "3.12.10"
  }
 },
 "nbformat": 4,
 "nbformat_minor": 2
}
