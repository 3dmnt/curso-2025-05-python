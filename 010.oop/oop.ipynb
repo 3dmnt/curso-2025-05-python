{
 "cells": [
  {
   "cell_type": "code",
   "execution_count": 2,
   "metadata": {},
   "outputs": [],
   "source": [
    "# clase sin constructor\n",
    "\n",
    "class User: \n",
    "    email = 'user@gmail.com'\n",
    "    password = 'admin'\n",
    "\n",
    "# todos los objetos tendrán el mismo email y password\n",
    "user1 = User()\n",
    "user2 = User()\n",
    "# aunque los podemos modificar\n",
    "user1.email = 'user1@gmail.com'\n",
    "user2.email = 'user2@gmail.com'"
   ]
  },
  {
   "cell_type": "code",
   "execution_count": null,
   "metadata": {},
   "outputs": [
    {
     "name": "stdout",
     "output_type": "stream",
     "text": [
      "fin\n"
     ]
    }
   ],
   "source": [
    "class User:\n",
    "    def __init__(self, email, password):\n",
    "        self.email = email # equivalente en js: this.email = email;\n",
    "        self.password = password\n",
    "\n",
    "user1 = User('user1@gmail.com', 'abcd')\n",
    "user2 = User('user2@gmail.com', 'admin')\n",
    "# user3 = User() # da error, ya que es obligatorio pasar los datos\n",
    "print('fin')"
   ]
  },
  {
   "cell_type": "code",
   "execution_count": 15,
   "metadata": {},
   "outputs": [
    {
     "name": "stdout",
     "output_type": "stream",
     "text": [
      "Hola soy pepe@gmail.com\n"
     ]
    }
   ],
   "source": [
    "class User:\n",
    "    def __init__(self, email, password):\n",
    "        self.email = email # equivalente en js: this.email = email;\n",
    "        self.password = password\n",
    "    \n",
    "    def saludar(self):\n",
    "        print(f'Hola soy {self.email}')\n",
    "\n",
    "user1 = User('pepe@gmail.com', 'abcd')\n",
    "user1.saludar()"
   ]
  }
 ],
 "metadata": {
  "kernelspec": {
   "display_name": ".venv (3.12.10)",
   "language": "python",
   "name": "python3"
  },
  "language_info": {
   "codemirror_mode": {
    "name": "ipython",
    "version": 3
   },
   "file_extension": ".py",
   "mimetype": "text/x-python",
   "name": "python",
   "nbconvert_exporter": "python",
   "pygments_lexer": "ipython3",
   "version": "3.12.10"
  }
 },
 "nbformat": 4,
 "nbformat_minor": 2
}
