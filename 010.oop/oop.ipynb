{
 "cells": [
  {
   "cell_type": "code",
   "execution_count": 2,
   "metadata": {},
   "outputs": [],
   "source": [
    "# clase sin constructor\n",
    "\n",
    "class User: \n",
    "    email = 'user@gmail.com'\n",
    "    password = 'admin'\n",
    "\n",
    "# todos los objetos tendrán el mismo email y password\n",
    "user1 = User()\n",
    "user2 = User()\n",
    "# aunque los podemos modificar\n",
    "user1.email = 'user1@gmail.com'\n",
    "user2.email = 'user2@gmail.com'"
   ]
  },
  {
   "cell_type": "code",
   "execution_count": 8,
   "metadata": {},
   "outputs": [],
   "source": [
    "class User:\n",
    "    def __init__(self, email, password):\n",
    "        self.email = email\n",
    "        self.password = password\n",
    "\n",
    "user1 = User('user1@gmail.com', 'abcd')\n",
    "user2 = User('user2@gmail.com', 'admin')\n",
    "# user3 = User() # da error, ya que es obligatorio pasar los datos"
   ]
  }
 ],
 "metadata": {
  "kernelspec": {
   "display_name": ".venv (3.12.10)",
   "language": "python",
   "name": "python3"
  },
  "language_info": {
   "codemirror_mode": {
    "name": "ipython",
    "version": 3
   },
   "file_extension": ".py",
   "mimetype": "text/x-python",
   "name": "python",
   "nbconvert_exporter": "python",
   "pygments_lexer": "ipython3",
   "version": "3.12.10"
  }
 },
 "nbformat": 4,
 "nbformat_minor": 2
}
